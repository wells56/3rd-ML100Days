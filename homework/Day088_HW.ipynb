{
 "cells": [
  {
   "cell_type": "markdown",
   "metadata": {},
   "source": [
    "## Work\n",
    "1. 請嘗試寫一個 callback 用來記錄各類別在訓練過程中，對驗證集的 True Positive 與 True Negative"
   ]
  },
  {
   "cell_type": "code",
   "execution_count": 1,
   "metadata": {},
   "outputs": [
    {
     "name": "stderr",
     "output_type": "stream",
     "text": [
      "Using TensorFlow backend.\n"
     ]
    }
   ],
   "source": [
    "import os\n",
    "import keras\n",
    "\n",
    "# Disable GPU\n",
    "os.environ[\"CUDA_VISIBLE_DEVICES\"] = \"0\""
   ]
  },
  {
   "cell_type": "code",
   "execution_count": 2,
   "metadata": {},
   "outputs": [],
   "source": [
    "train, test = keras.datasets.cifar10.load_data()"
   ]
  },
  {
   "cell_type": "code",
   "execution_count": 3,
   "metadata": {},
   "outputs": [],
   "source": [
    "## 資料前處理\n",
    "def preproc_x(x, flatten=True):\n",
    "    x = x / 255.\n",
    "    if flatten:\n",
    "        x = x.reshape((len(x), -1))\n",
    "    return x\n",
    "\n",
    "def preproc_y(y, num_classes=10):\n",
    "    if y.shape[-1] == 1:\n",
    "        y = keras.utils.to_categorical(y, num_classes)\n",
    "    return y    "
   ]
  },
  {
   "cell_type": "code",
   "execution_count": 4,
   "metadata": {},
   "outputs": [],
   "source": [
    "x_train, y_train = train\n",
    "x_test, y_test = test\n",
    "\n",
    "# Preproc the inputs\n",
    "x_train = preproc_x(x_train)\n",
    "x_test = preproc_x(x_test)\n",
    "\n",
    "# Preprc the outputs\n",
    "y_train = preproc_y(y_train)\n",
    "y_test = preproc_y(y_test)"
   ]
  },
  {
   "cell_type": "code",
   "execution_count": 5,
   "metadata": {},
   "outputs": [],
   "source": [
    "from keras.layers import BatchNormalization\n",
    "def build_mlp(input_shape, output_units=10, num_neurons=[256, 256, 256]):\n",
    "    \"\"\"Code Here\n",
    "    建立你的神經網路\n",
    "    \"\"\"\n",
    "    input_layer = keras.layers.Input(input_shape)\n",
    "    \n",
    "    for i, n_units in enumerate(num_neurons):\n",
    "        if i == 0:\n",
    "            x = keras.layers.Dense(units=n_units, \n",
    "                                   activation=\"relu\", \n",
    "                                   name=\"hidden_layer\"+str(i+1))(input_layer)\n",
    "            x = BatchNormalization()(x)\n",
    "        else:\n",
    "            x = keras.layers.Dense(units=n_units, \n",
    "                                   activation=\"relu\", \n",
    "                                   name=\"hidden_layer\"+str(i+1))(x)\n",
    "            x = BatchNormalization()(x)\n",
    "    \n",
    "    out = keras.layers.Dense(units=output_units, activation=\"softmax\", name=\"output\")(x)\n",
    "    \n",
    "    model = keras.models.Model(inputs=[input_layer], outputs=[out])\n",
    "    return model"
   ]
  },
  {
   "cell_type": "code",
   "execution_count": 6,
   "metadata": {},
   "outputs": [],
   "source": [
    "## 超參數設定\n",
    "LEARNING_RATE = 1e-3\n",
    "EPOCHS = 25\n",
    "BATCH_SIZE = 1024\n",
    "MOMENTUM = 0.95"
   ]
  },
  {
   "cell_type": "code",
   "execution_count": 7,
   "metadata": {},
   "outputs": [],
   "source": [
    "# 載入 Callbacks\n",
    "from keras.callbacks import Callback\n",
    "\n",
    "# Record_fp_tp\n",
    "class Record_tp_tn(Callback):\n",
    "    \"\"\"Code Here\n",
    "    撰寫一個紀錄 ture positive 與 true negative 數量的 callbacks    \n",
    "    \"\"\"\n",
    "    def on_train_begin(self, epoch, logs = {}):\n",
    "        logs = logs or {}\n",
    "        record_items = [\"val_auc\", \"val_f1sc\", \"val_fp\", \"val_fn\", \"val_tp\", \"val_tn\"]\n",
    "        for i in record_items:\n",
    "            if i not in self.params['metrics']:\n",
    "                self.params['metrics'].append(i)\n",
    "    \n",
    "    def on_epoch_end(self, epoch, logs = {}, thres=0.5):\n",
    "        logs = logs or {}\n",
    "        y_true = self.validation_data[1].argmax(axis = 1)\n",
    "        y_pred = self.model.predict(self.validation_data[0])\n",
    "        y_pred = (y_pred[:, 1] >= thres) * 1\n",
    "        tp = 0\n",
    "        fp = 0\n",
    "        tn = 0\n",
    "        fn = 0\n",
    "\n",
    "        for i in range(len(y_pred)): \n",
    "            if y_pred[i] == y_true[i]==1:\n",
    "                tp += 1\n",
    "            if y_pred[i] == 1 and y_true[i] == 0:\n",
    "                fp += 1\n",
    "            if y_pred[i] == y_true[i] == 0:\n",
    "                tn +=1\n",
    "            if y_pred[i] == 0 and y_true[i] == 1:\n",
    "                fn +=1\n",
    "        logs[\"val_tp\"] = tp\n",
    "        logs[\"val_tn\"] = tn\n",
    "\n",
    "rec_tptn = Record_tp_tn()"
   ]
  },
  {
   "cell_type": "code",
   "execution_count": 8,
   "metadata": {
    "scrolled": true
   },
   "outputs": [
    {
     "name": "stdout",
     "output_type": "stream",
     "text": [
      "WARNING:tensorflow:From C:\\Users\\Wells\\Anaconda3\\envs\\ml100Days\\lib\\site-packages\\keras\\backend\\tensorflow_backend.py:74: The name tf.get_default_graph is deprecated. Please use tf.compat.v1.get_default_graph instead.\n",
      "\n",
      "WARNING:tensorflow:From C:\\Users\\Wells\\Anaconda3\\envs\\ml100Days\\lib\\site-packages\\keras\\backend\\tensorflow_backend.py:517: The name tf.placeholder is deprecated. Please use tf.compat.v1.placeholder instead.\n",
      "\n",
      "WARNING:tensorflow:From C:\\Users\\Wells\\Anaconda3\\envs\\ml100Days\\lib\\site-packages\\keras\\backend\\tensorflow_backend.py:4138: The name tf.random_uniform is deprecated. Please use tf.random.uniform instead.\n",
      "\n",
      "WARNING:tensorflow:From C:\\Users\\Wells\\Anaconda3\\envs\\ml100Days\\lib\\site-packages\\keras\\backend\\tensorflow_backend.py:133: The name tf.placeholder_with_default is deprecated. Please use tf.compat.v1.placeholder_with_default instead.\n",
      "\n",
      "_________________________________________________________________\n",
      "Layer (type)                 Output Shape              Param #   \n",
      "=================================================================\n",
      "input_1 (InputLayer)         (None, 3072)              0         \n",
      "_________________________________________________________________\n",
      "hidden_layer1 (Dense)        (None, 256)               786688    \n",
      "_________________________________________________________________\n",
      "batch_normalization_1 (Batch (None, 256)               1024      \n",
      "_________________________________________________________________\n",
      "hidden_layer2 (Dense)        (None, 256)               65792     \n",
      "_________________________________________________________________\n",
      "batch_normalization_2 (Batch (None, 256)               1024      \n",
      "_________________________________________________________________\n",
      "hidden_layer3 (Dense)        (None, 256)               65792     \n",
      "_________________________________________________________________\n",
      "batch_normalization_3 (Batch (None, 256)               1024      \n",
      "_________________________________________________________________\n",
      "output (Dense)               (None, 10)                2570      \n",
      "=================================================================\n",
      "Total params: 923,914\n",
      "Trainable params: 922,378\n",
      "Non-trainable params: 1,536\n",
      "_________________________________________________________________\n",
      "WARNING:tensorflow:From C:\\Users\\Wells\\Anaconda3\\envs\\ml100Days\\lib\\site-packages\\keras\\optimizers.py:790: The name tf.train.Optimizer is deprecated. Please use tf.compat.v1.train.Optimizer instead.\n",
      "\n",
      "WARNING:tensorflow:From C:\\Users\\Wells\\Anaconda3\\envs\\ml100Days\\lib\\site-packages\\keras\\backend\\tensorflow_backend.py:3295: The name tf.log is deprecated. Please use tf.math.log instead.\n",
      "\n",
      "WARNING:tensorflow:From C:\\Users\\Wells\\Anaconda3\\envs\\ml100Days\\lib\\site-packages\\tensorflow\\python\\ops\\math_grad.py:1250: add_dispatch_support.<locals>.wrapper (from tensorflow.python.ops.array_ops) is deprecated and will be removed in a future version.\n",
      "Instructions for updating:\n",
      "Use tf.where in 2.0, which has the same broadcast rule as np.where\n",
      "Train on 50000 samples, validate on 10000 samples\n",
      "Epoch 1/25\n",
      "50000/50000 [==============================] - 6s 118us/step - loss: 2.2513 - acc: 0.2609 - val_loss: 2.1081 - val_acc: 0.3080\n",
      "Epoch 2/25\n",
      "50000/50000 [==============================] - 3s 56us/step - loss: 1.7550 - acc: 0.3851 - val_loss: 1.8265 - val_acc: 0.3705\n",
      "Epoch 3/25\n",
      "50000/50000 [==============================] - 3s 52us/step - loss: 1.6316 - acc: 0.4255 - val_loss: 1.7237 - val_acc: 0.4008\n",
      "Epoch 4/25\n",
      "50000/50000 [==============================] - 3s 51us/step - loss: 1.5601 - acc: 0.4507 - val_loss: 1.6239 - val_acc: 0.4333\n",
      "Epoch 5/25\n",
      "50000/50000 [==============================] - 3s 51us/step - loss: 1.5051 - acc: 0.4706 - val_loss: 1.5901 - val_acc: 0.4469\n",
      "Epoch 6/25\n",
      "50000/50000 [==============================] - 3s 53us/step - loss: 1.4607 - acc: 0.4881 - val_loss: 1.5739 - val_acc: 0.4482\n",
      "Epoch 7/25\n",
      "50000/50000 [==============================] - 3s 53us/step - loss: 1.4242 - acc: 0.5006 - val_loss: 1.5275 - val_acc: 0.4663\n",
      "Epoch 8/25\n",
      "50000/50000 [==============================] - 3s 55us/step - loss: 1.3919 - acc: 0.5137 - val_loss: 1.5122 - val_acc: 0.4717\n",
      "Epoch 9/25\n",
      "50000/50000 [==============================] - 3s 55us/step - loss: 1.3620 - acc: 0.5244 - val_loss: 1.5333 - val_acc: 0.4617\n",
      "Epoch 10/25\n",
      "50000/50000 [==============================] - 3s 55us/step - loss: 1.3348 - acc: 0.5345 - val_loss: 1.4908 - val_acc: 0.4781\n",
      "Epoch 11/25\n",
      "50000/50000 [==============================] - 3s 53us/step - loss: 1.3104 - acc: 0.5432 - val_loss: 1.4902 - val_acc: 0.4766\n",
      "Epoch 12/25\n",
      "50000/50000 [==============================] - 3s 54us/step - loss: 1.2864 - acc: 0.5499 - val_loss: 1.4684 - val_acc: 0.4874\n",
      "Epoch 13/25\n",
      "50000/50000 [==============================] - 3s 52us/step - loss: 1.2635 - acc: 0.5611 - val_loss: 1.4643 - val_acc: 0.4864\n",
      "Epoch 14/25\n",
      "50000/50000 [==============================] - 3s 53us/step - loss: 1.2417 - acc: 0.5664 - val_loss: 1.4810 - val_acc: 0.4812\n",
      "Epoch 15/25\n",
      "50000/50000 [==============================] - 3s 55us/step - loss: 1.2222 - acc: 0.5748 - val_loss: 1.4543 - val_acc: 0.4914\n",
      "Epoch 16/25\n",
      "50000/50000 [==============================] - 3s 55us/step - loss: 1.2011 - acc: 0.5827 - val_loss: 1.4575 - val_acc: 0.4904\n",
      "Epoch 17/25\n",
      "50000/50000 [==============================] - 3s 54us/step - loss: 1.1845 - acc: 0.5895 - val_loss: 1.4433 - val_acc: 0.4937\n",
      "Epoch 18/25\n",
      "50000/50000 [==============================] - 3s 52us/step - loss: 1.1622 - acc: 0.5980 - val_loss: 1.4424 - val_acc: 0.4920\n",
      "Epoch 19/25\n",
      "50000/50000 [==============================] - 3s 52us/step - loss: 1.1452 - acc: 0.6033 - val_loss: 1.4395 - val_acc: 0.4997\n",
      "Epoch 20/25\n",
      "50000/50000 [==============================] - 3s 52us/step - loss: 1.1270 - acc: 0.6107 - val_loss: 1.4495 - val_acc: 0.4928\n",
      "Epoch 21/25\n",
      "50000/50000 [==============================] - 3s 53us/step - loss: 1.1104 - acc: 0.6181 - val_loss: 1.4525 - val_acc: 0.4913\n",
      "Epoch 22/25\n",
      "50000/50000 [==============================] - 3s 53us/step - loss: 1.0912 - acc: 0.6241 - val_loss: 1.4467 - val_acc: 0.4933\n",
      "Epoch 23/25\n",
      "50000/50000 [==============================] - 3s 55us/step - loss: 1.0760 - acc: 0.6301 - val_loss: 1.4529 - val_acc: 0.4956\n",
      "Epoch 24/25\n",
      "50000/50000 [==============================] - 3s 55us/step - loss: 1.0592 - acc: 0.6376 - val_loss: 1.4537 - val_acc: 0.4931\n",
      "Epoch 25/25\n",
      "50000/50000 [==============================] - 3s 53us/step - loss: 1.0435 - acc: 0.6433 - val_loss: 1.4368 - val_acc: 0.5030\n"
     ]
    }
   ],
   "source": [
    "model = build_mlp(input_shape=x_train.shape[1:])\n",
    "model.summary()\n",
    "optimizer = keras.optimizers.SGD(lr=LEARNING_RATE, nesterov=True, momentum=MOMENTUM)\n",
    "model.compile(loss=\"categorical_crossentropy\", metrics=[\"accuracy\"], optimizer=optimizer)\n",
    "\n",
    "\"\"\"Code Here\n",
    "將 callbacks 放入模型訓練流程中\n",
    "\"\"\"\n",
    "model.fit(x_train, y_train, \n",
    "          epochs=EPOCHS, \n",
    "          batch_size=BATCH_SIZE, \n",
    "          validation_data=(x_test, y_test), \n",
    "          shuffle=True,\n",
    "          callbacks=[rec_tptn]\n",
    "         )\n",
    "\n",
    "# Collect results\n",
    "train_loss = model.history.history[\"loss\"]\n",
    "valid_loss = model.history.history[\"val_loss\"]\n",
    "train_acc = model.history.history[\"acc\"]\n",
    "valid_acc = model.history.history[\"val_acc\"]\n",
    "\n",
    "\"\"\"Code Here\n",
    "將 tp/tn 從訓練完的模型中取出\n",
    "\"\"\"\n",
    "valid_tp = model.history.history['val_tp']\n",
    "valid_tn = model.history.history['val_tn']"
   ]
  },
  {
   "cell_type": "code",
   "execution_count": 9,
   "metadata": {},
   "outputs": [
    {
     "data": {
      "image/png": "[encoded data removed]",
      "text/plain": [
       "<Figure size 432x288 with 1 Axes>"
      ]
     },
     "metadata": {
      "needs_background": "light"
     },
     "output_type": "display_data"
    },
    {
     "data": {
      "image/png": "[encoded data removed]",
      "text/plain": [
       "<Figure size 432x288 with 1 Axes>"
      ]
     },
     "metadata": {
      "needs_background": "light"
     },
     "output_type": "display_data"
    },
    {
     "data": {
      "image/png": "[encoded data removed]",
      "text/plain": [
       "<Figure size 432x288 with 1 Axes>"
      ]
     },
     "metadata": {
      "needs_background": "light"
     },
     "output_type": "display_data"
    }
   ],
   "source": [
    "import matplotlib.pyplot as plt\n",
    "%matplotlib inline\n",
    "\n",
    "plt.plot(range(len(train_loss)), train_loss, label=\"train loss\")\n",
    "plt.plot(range(len(valid_loss)), valid_loss, label=\"valid loss\")\n",
    "plt.legend()\n",
    "plt.title(\"Loss\")\n",
    "plt.show()\n",
    "\n",
    "plt.plot(range(len(train_acc)), train_acc, label=\"train accuracy\")\n",
    "plt.plot(range(len(valid_acc)), valid_acc, label=\"valid accuracy\")\n",
    "plt.legend()\n",
    "plt.title(\"Accuracy\")\n",
    "plt.show()\n",
    "\n",
    "plt.plot(range(len(valid_tp)), valid_tp, label=\"valid tp\", color=\"navy\")\n",
    "plt.plot(range(len(valid_tn)), valid_tn, label=\"valid tn\", color=\"red\")\n",
    "plt.legend()\n",
    "plt.title(\"True positives and True Negatives\")\n",
    "plt.show()\n"
   ]
  }
 ],
 "metadata": {
  "kernelspec": {
   "display_name": "Python 3",
   "language": "python",
   "name": "python3"
  },
  "language_info": {
   "codemirror_mode": {
    "name": "ipython",
    "version": 3
   },
   "file_extension": ".py",
   "mimetype": "text/x-python",
   "name": "python",
   "nbconvert_exporter": "python",
   "pygments_lexer": "ipython3",
   "version": "3.6.9"
  }
 },
 "nbformat": 4,
 "nbformat_minor": 2
}
