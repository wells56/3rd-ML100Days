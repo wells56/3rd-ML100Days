{
 "cells": [
  {
   "cell_type": "markdown",
   "metadata": {},
   "source": [
    "## Work\n",
    "1. 請嘗試將 preproc_x 替換成以每筆資料的 min/max 進行標準化至 -1 ~ 1 間，再進行訓練\n",
    "2. 請嘗試將 mlp 疊更深 (e.g 5~10 層)，進行訓練後觀察 learning curve 的走勢\n",
    "3. (optional) 請改用 GPU 進行訓練 (如果你有 GPU 的話)，比較使用 CPU 與 GPU 的訓練速度"
   ]
  },
  {
   "cell_type": "code",
   "execution_count": 1,
   "metadata": {},
   "outputs": [
    {
     "name": "stdout",
     "output_type": "stream",
     "text": [
      "Sun Jun 07 21:49:58 2020       \n",
      "+-----------------------------------------------------------------------------+\n",
      "| NVIDIA-SMI 419.35       Driver Version: 419.35       CUDA Version: 10.1     |\n",
      "|-------------------------------+----------------------+----------------------+\n",
      "| GPU  Name            TCC/WDDM | Bus-Id        Disp.A | Volatile Uncorr. ECC |\n",
      "| Fan  Temp  Perf  Pwr:Usage/Cap|         Memory-Usage | GPU-Util  Compute M. |\n",
      "|===============================+======================+======================|\n",
      "|   0  GeForce GTX 965M   WDDM  | 00000000:01:00.0 Off |                  N/A |\n",
      "| N/A   47C    P8    N/A /  N/A |     37MiB /  2048MiB |      0%      Default |\n",
      "+-------------------------------+----------------------+----------------------+\n",
      "                                                                               \n",
      "+-----------------------------------------------------------------------------+\n",
      "| Processes:                                                       GPU Memory |\n",
      "|  GPU       PID   Type   Process name                             Usage      |\n",
      "|=============================================================================|\n",
      "|  No running processes found                                                 |\n",
      "+-----------------------------------------------------------------------------+\n"
     ]
    }
   ],
   "source": [
    "## \n",
    "\"\"\"\n",
    "Your code here (optional)\n",
    "確認硬體資源\n",
    "\"\"\"\n",
    "!nvidia-smi"
   ]
  },
  {
   "cell_type": "code",
   "execution_count": 2,
   "metadata": {},
   "outputs": [
    {
     "name": "stderr",
     "output_type": "stream",
     "text": [
      "Using TensorFlow backend.\n"
     ]
    }
   ],
   "source": [
    "import os\n",
    "import keras\n",
    "\n",
    "# 請嘗試設定 GPU：os.environ\n",
    "os.environ[\"CUDA_VISIBLE_DEVICES\"] = \"0\""
   ]
  },
  {
   "cell_type": "code",
   "execution_count": 3,
   "metadata": {},
   "outputs": [],
   "source": [
    "train, test = keras.datasets.cifar10.load_data()"
   ]
  },
  {
   "cell_type": "code",
   "execution_count": 4,
   "metadata": {},
   "outputs": [],
   "source": [
    "## 資料前處理\n",
    "\"\"\"\n",
    "Your code here\n",
    "\"\"\"\n",
    "# 修正\n",
    "def preproc_x(x, flatten=True):\n",
    "    x = 2*(((x - x.min()) / (x.max() - x.min()))-0.5)\n",
    "    if flatten:\n",
    "        x = x.reshape((len(x), -1))\n",
    "    return x\n",
    "\n",
    "def preproc_y(y, num_classes=10):\n",
    "    if y.shape[-1] == 1:\n",
    "        y = keras.utils.to_categorical(y, num_classes)\n",
    "    return y"
   ]
  },
  {
   "cell_type": "code",
   "execution_count": 5,
   "metadata": {},
   "outputs": [],
   "source": [
    "x_train, y_train = train\n",
    "x_test, y_test = test\n",
    "\n",
    "# Preproc the inputs\n",
    "x_train = preproc_x(x_train)\n",
    "x_test = preproc_x(x_test)\n",
    "\n",
    "# Preprc the outputs\n",
    "y_train = preproc_y(y_train)\n",
    "y_test = preproc_y(y_test)"
   ]
  },
  {
   "cell_type": "code",
   "execution_count": 6,
   "metadata": {},
   "outputs": [
    {
     "name": "stdout",
     "output_type": "stream",
     "text": [
      "WARNING:tensorflow:From C:\\Users\\Wells\\Anaconda3\\envs\\ml100Days\\lib\\site-packages\\keras\\backend\\tensorflow_backend.py:74: The name tf.get_default_graph is deprecated. Please use tf.compat.v1.get_default_graph instead.\n",
      "\n",
      "WARNING:tensorflow:From C:\\Users\\Wells\\Anaconda3\\envs\\ml100Days\\lib\\site-packages\\keras\\backend\\tensorflow_backend.py:517: The name tf.placeholder is deprecated. Please use tf.compat.v1.placeholder instead.\n",
      "\n",
      "WARNING:tensorflow:From C:\\Users\\Wells\\Anaconda3\\envs\\ml100Days\\lib\\site-packages\\keras\\backend\\tensorflow_backend.py:4138: The name tf.random_uniform is deprecated. Please use tf.random.uniform instead.\n",
      "\n",
      "_________________________________________________________________\n",
      "Layer (type)                 Output Shape              Param #   \n",
      "=================================================================\n",
      "input_1 (InputLayer)         (None, 3072)              0         \n",
      "_________________________________________________________________\n",
      "hidden_layer1 (Dense)        (None, 512)               1573376   \n",
      "_________________________________________________________________\n",
      "hidden_layer2 (Dense)        (None, 256)               131328    \n",
      "_________________________________________________________________\n",
      "hidden_layer3 (Dense)        (None, 128)               32896     \n",
      "_________________________________________________________________\n",
      "hidden_layer4 (Dense)        (None, 128)               16512     \n",
      "_________________________________________________________________\n",
      "hidden_layer5 (Dense)        (None, 128)               16512     \n",
      "_________________________________________________________________\n",
      "output (Dense)               (None, 10)                1290      \n",
      "=================================================================\n",
      "Total params: 1,771,914\n",
      "Trainable params: 1,771,914\n",
      "Non-trainable params: 0\n",
      "_________________________________________________________________\n"
     ]
    }
   ],
   "source": [
    "\"\"\"Code Here\n",
    "建立你的神經網路\n",
    "\"\"\"\n",
    "# 修正神經網路\n",
    "def build_mlp(input_shape, output_units=10, num_neurons=[512, 256, 128, 128, 128]):\n",
    "    input_layer = keras.layers.Input(input_shape)\n",
    "    \n",
    "    for i, n_units in enumerate(num_neurons):\n",
    "        if i == 0:\n",
    "            x = keras.layers.Dense(units=n_units, activation=\"relu\", name=\"hidden_layer\"+str(i+1))(input_layer)\n",
    "        else:\n",
    "            x = keras.layers.Dense(units=n_units, activation=\"relu\", name=\"hidden_layer\"+str(i+1))(x)\n",
    "    \n",
    "    out = keras.layers.Dense(units=output_units, activation=\"softmax\", name=\"output\")(x)\n",
    "    \n",
    "    model = keras.models.Model(inputs=[input_layer], outputs=[out])\n",
    "    return model\n",
    "\n",
    "model = build_mlp(input_shape=x_train.shape[1:])\n",
    "model.summary()"
   ]
  },
  {
   "cell_type": "code",
   "execution_count": 7,
   "metadata": {},
   "outputs": [],
   "source": [
    "## 超參數設定\n",
    "LEARNING_RATE = 0.001\n",
    "EPOCHS = 100\n",
    "BATCH_SIZE = 256"
   ]
  },
  {
   "cell_type": "code",
   "execution_count": 8,
   "metadata": {},
   "outputs": [
    {
     "name": "stdout",
     "output_type": "stream",
     "text": [
      "WARNING:tensorflow:From C:\\Users\\Wells\\Anaconda3\\envs\\ml100Days\\lib\\site-packages\\keras\\optimizers.py:790: The name tf.train.Optimizer is deprecated. Please use tf.compat.v1.train.Optimizer instead.\n",
      "\n",
      "WARNING:tensorflow:From C:\\Users\\Wells\\Anaconda3\\envs\\ml100Days\\lib\\site-packages\\keras\\backend\\tensorflow_backend.py:3295: The name tf.log is deprecated. Please use tf.math.log instead.\n",
      "\n"
     ]
    }
   ],
   "source": [
    "optimizer = keras.optimizers.Adam(lr=LEARNING_RATE)\n",
    "model.compile(loss=\"categorical_crossentropy\", metrics=[\"accuracy\"], optimizer=optimizer)"
   ]
  },
  {
   "cell_type": "code",
   "execution_count": 9,
   "metadata": {},
   "outputs": [
    {
     "name": "stdout",
     "output_type": "stream",
     "text": [
      "WARNING:tensorflow:From C:\\Users\\Wells\\Anaconda3\\envs\\ml100Days\\lib\\site-packages\\tensorflow\\python\\ops\\math_grad.py:1250: add_dispatch_support.<locals>.wrapper (from tensorflow.python.ops.array_ops) is deprecated and will be removed in a future version.\n",
      "Instructions for updating:\n",
      "Use tf.where in 2.0, which has the same broadcast rule as np.where\n",
      "WARNING:tensorflow:From C:\\Users\\Wells\\Anaconda3\\envs\\ml100Days\\lib\\site-packages\\keras\\backend\\tensorflow_backend.py:986: The name tf.assign_add is deprecated. Please use tf.compat.v1.assign_add instead.\n",
      "\n",
      "Train on 50000 samples, validate on 10000 samples\n",
      "Epoch 1/100\n",
      "50000/50000 [==============================] - 7s 140us/step - loss: 1.6901 - acc: 0.3963 - val_loss: 1.5727 - val_acc: 0.4440\n",
      "Epoch 2/100\n",
      "50000/50000 [==============================] - 4s 83us/step - loss: 1.4691 - acc: 0.4790 - val_loss: 1.4578 - val_acc: 0.4882\n",
      "Epoch 3/100\n",
      "50000/50000 [==============================] - 4s 84us/step - loss: 1.3587 - acc: 0.5202 - val_loss: 1.3985 - val_acc: 0.5094\n",
      "Epoch 4/100\n",
      "50000/50000 [==============================] - 4s 83us/step - loss: 1.2599 - acc: 0.5568 - val_loss: 1.3936 - val_acc: 0.5149\n",
      "Epoch 5/100\n",
      "50000/50000 [==============================] - 4s 84us/step - loss: 1.1794 - acc: 0.5852 - val_loss: 1.3921 - val_acc: 0.5126\n",
      "Epoch 6/100\n",
      "50000/50000 [==============================] - 4s 86us/step - loss: 1.1005 - acc: 0.6111 - val_loss: 1.3483 - val_acc: 0.5263\n",
      "Epoch 7/100\n",
      "50000/50000 [==============================] - 4s 86us/step - loss: 1.0223 - acc: 0.6367 - val_loss: 1.3678 - val_acc: 0.5312\n",
      "Epoch 8/100\n",
      "50000/50000 [==============================] - 4s 84us/step - loss: 0.9538 - acc: 0.6628 - val_loss: 1.4340 - val_acc: 0.5240\n",
      "Epoch 9/100\n",
      "50000/50000 [==============================] - 4s 84us/step - loss: 0.8895 - acc: 0.6849 - val_loss: 1.4408 - val_acc: 0.5283- acc: 0.685\n",
      "Epoch 10/100\n",
      "50000/50000 [==============================] - 4s 83us/step - loss: 0.8168 - acc: 0.7111 - val_loss: 1.4823 - val_acc: 0.5267\n",
      "Epoch 11/100\n",
      "50000/50000 [==============================] - 4s 82us/step - loss: 0.7608 - acc: 0.7283 - val_loss: 1.5241 - val_acc: 0.5285\n",
      "Epoch 12/100\n",
      "50000/50000 [==============================] - 4s 82us/step - loss: 0.7003 - acc: 0.7516 - val_loss: 1.6019 - val_acc: 0.5272\n",
      "Epoch 13/100\n",
      "50000/50000 [==============================] - 4s 83us/step - loss: 0.6421 - acc: 0.7708 - val_loss: 1.6607 - val_acc: 0.5342\n",
      "Epoch 14/100\n",
      "50000/50000 [==============================] - 4s 83us/step - loss: 0.5958 - acc: 0.7868 - val_loss: 1.6850 - val_acc: 0.5324\n",
      "Epoch 15/100\n",
      "50000/50000 [==============================] - 4s 83us/step - loss: 0.5404 - acc: 0.8075 - val_loss: 1.7713 - val_acc: 0.5431\n",
      "Epoch 16/100\n",
      "50000/50000 [==============================] - 4s 83us/step - loss: 0.4907 - acc: 0.8233 - val_loss: 1.9319 - val_acc: 0.5331\n",
      "Epoch 17/100\n",
      "50000/50000 [==============================] - 4s 82us/step - loss: 0.4561 - acc: 0.8374 - val_loss: 1.9752 - val_acc: 0.5370\n",
      "Epoch 18/100\n",
      "50000/50000 [==============================] - 4s 81us/step - loss: 0.4200 - acc: 0.8510 - val_loss: 2.0762 - val_acc: 0.5278\n",
      "Epoch 19/100\n",
      "50000/50000 [==============================] - 4s 82us/step - loss: 0.3793 - acc: 0.8653 - val_loss: 2.1678 - val_acc: 0.5254\n",
      "Epoch 20/100\n",
      "50000/50000 [==============================] - 4s 82us/step - loss: 0.3716 - acc: 0.8694 - val_loss: 2.1893 - val_acc: 0.5295\n",
      "Epoch 21/100\n",
      "50000/50000 [==============================] - 4s 82us/step - loss: 0.3406 - acc: 0.8804 - val_loss: 2.3274 - val_acc: 0.5255\n",
      "Epoch 22/100\n",
      "50000/50000 [==============================] - 4s 83us/step - loss: 0.3112 - acc: 0.8911 - val_loss: 2.4631 - val_acc: 0.5260\n",
      "Epoch 23/100\n",
      "50000/50000 [==============================] - 4s 82us/step - loss: 0.2849 - acc: 0.9005 - val_loss: 2.4637 - val_acc: 0.5320\n",
      "Epoch 24/100\n",
      "50000/50000 [==============================] - 4s 81us/step - loss: 0.2820 - acc: 0.9014 - val_loss: 2.5679 - val_acc: 0.5277\n",
      "Epoch 25/100\n",
      "50000/50000 [==============================] - 4s 82us/step - loss: 0.2555 - acc: 0.9108 - val_loss: 2.6714 - val_acc: 0.5169\n",
      "Epoch 26/100\n",
      "50000/50000 [==============================] - 4s 82us/step - loss: 0.2474 - acc: 0.9129 - val_loss: 2.7399 - val_acc: 0.5268\n",
      "Epoch 27/100\n",
      "50000/50000 [==============================] - 4s 82us/step - loss: 0.2301 - acc: 0.9197 - val_loss: 2.7552 - val_acc: 0.5293\n",
      "Epoch 28/100\n",
      "50000/50000 [==============================] - 4s 83us/step - loss: 0.2210 - acc: 0.9238 - val_loss: 2.8318 - val_acc: 0.5243\n",
      "Epoch 29/100\n",
      "50000/50000 [==============================] - 4s 81us/step - loss: 0.2208 - acc: 0.9234 - val_loss: 2.8992 - val_acc: 0.5182\n",
      "Epoch 30/100\n",
      "50000/50000 [==============================] - 4s 84us/step - loss: 0.2105 - acc: 0.9267 - val_loss: 2.9945 - val_acc: 0.5216\n",
      "Epoch 31/100\n",
      "50000/50000 [==============================] - 4s 84us/step - loss: 0.2152 - acc: 0.9262 - val_loss: 2.8631 - val_acc: 0.5245\n",
      "Epoch 32/100\n",
      "50000/50000 [==============================] - 4s 86us/step - loss: 0.1902 - acc: 0.9347 - val_loss: 3.0645 - val_acc: 0.5312\n",
      "Epoch 33/100\n",
      "50000/50000 [==============================] - 4s 86us/step - loss: 0.1643 - acc: 0.9428 - val_loss: 3.1058 - val_acc: 0.5272\n",
      "Epoch 34/100\n",
      "50000/50000 [==============================] - 4s 84us/step - loss: 0.1824 - acc: 0.9370 - val_loss: 3.0725 - val_acc: 0.5248\n",
      "Epoch 35/100\n",
      "50000/50000 [==============================] - 4s 83us/step - loss: 0.1796 - acc: 0.9384 - val_loss: 3.1227 - val_acc: 0.5277\n",
      "Epoch 36/100\n",
      "50000/50000 [==============================] - 4s 83us/step - loss: 0.1575 - acc: 0.9459 - val_loss: 3.2093 - val_acc: 0.5268\n",
      "Epoch 37/100\n",
      "50000/50000 [==============================] - 4s 85us/step - loss: 0.1755 - acc: 0.9402 - val_loss: 3.1159 - val_acc: 0.5172\n",
      "Epoch 38/100\n",
      "50000/50000 [==============================] - 4s 83us/step - loss: 0.1564 - acc: 0.9472 - val_loss: 3.1319 - val_acc: 0.5316\n",
      "Epoch 39/100\n",
      "50000/50000 [==============================] - 4s 82us/step - loss: 0.1340 - acc: 0.9546 - val_loss: 3.3051 - val_acc: 0.5341\n",
      "Epoch 40/100\n",
      "50000/50000 [==============================] - 4s 84us/step - loss: 0.1536 - acc: 0.9472 - val_loss: 3.2478 - val_acc: 0.5240\n",
      "Epoch 41/100\n",
      "50000/50000 [==============================] - 4s 85us/step - loss: 0.1521 - acc: 0.9487 - val_loss: 3.2572 - val_acc: 0.5242\n",
      "Epoch 42/100\n",
      "50000/50000 [==============================] - 4s 85us/step - loss: 0.1305 - acc: 0.9557 - val_loss: 3.3645 - val_acc: 0.5240\n",
      "Epoch 43/100\n",
      "50000/50000 [==============================] - 4s 85us/step - loss: 0.1483 - acc: 0.9499 - val_loss: 3.2691 - val_acc: 0.5232\n",
      "Epoch 44/100\n",
      "50000/50000 [==============================] - 4s 85us/step - loss: 0.1533 - acc: 0.9481 - val_loss: 3.3523 - val_acc: 0.5336\n",
      "Epoch 45/100\n",
      "50000/50000 [==============================] - 4s 85us/step - loss: 0.1217 - acc: 0.9581 - val_loss: 3.4436 - val_acc: 0.5199\n",
      "Epoch 46/100\n",
      "50000/50000 [==============================] - 4s 82us/step - loss: 0.1387 - acc: 0.9522 - val_loss: 3.3528 - val_acc: 0.5313\n",
      "Epoch 47/100\n",
      "50000/50000 [==============================] - 4s 84us/step - loss: 0.1336 - acc: 0.9557 - val_loss: 3.3618 - val_acc: 0.5270\n",
      "Epoch 48/100\n",
      "50000/50000 [==============================] - 4s 84us/step - loss: 0.1141 - acc: 0.9619 - val_loss: 3.4709 - val_acc: 0.5330\n",
      "Epoch 49/100\n",
      "50000/50000 [==============================] - 4s 84us/step - loss: 0.1309 - acc: 0.9563 - val_loss: 3.4910 - val_acc: 0.5354\n",
      "Epoch 50/100\n",
      "50000/50000 [==============================] - 4s 85us/step - loss: 0.1009 - acc: 0.9657 - val_loss: 3.5279 - val_acc: 0.5292\n",
      "Epoch 51/100\n",
      "50000/50000 [==============================] - 4s 84us/step - loss: 0.1239 - acc: 0.9588 - val_loss: 3.4851 - val_acc: 0.5254\n",
      "Epoch 52/100\n",
      "50000/50000 [==============================] - 4s 85us/step - loss: 0.1280 - acc: 0.9579 - val_loss: 3.4656 - val_acc: 0.5308\n",
      "Epoch 53/100\n",
      "50000/50000 [==============================] - 4s 83us/step - loss: 0.1087 - acc: 0.9632 - val_loss: 3.5141 - val_acc: 0.5283\n",
      "Epoch 54/100\n",
      "50000/50000 [==============================] - 4s 82us/step - loss: 0.1121 - acc: 0.9629 - val_loss: 3.5133 - val_acc: 0.5267\n",
      "Epoch 55/100\n"
     ]
    },
    {
     "name": "stdout",
     "output_type": "stream",
     "text": [
      "50000/50000 [==============================] - 4s 82us/step - loss: 0.1128 - acc: 0.9624 - val_loss: 3.5966 - val_acc: 0.5292\n",
      "Epoch 56/100\n",
      "50000/50000 [==============================] - 4s 85us/step - loss: 0.1194 - acc: 0.9610 - val_loss: 3.4833 - val_acc: 0.5305\n",
      "Epoch 57/100\n",
      "50000/50000 [==============================] - 4s 84us/step - loss: 0.1003 - acc: 0.9662 - val_loss: 3.6067 - val_acc: 0.5256\n",
      "Epoch 58/100\n",
      "50000/50000 [==============================] - 4s 85us/step - loss: 0.1081 - acc: 0.9630 - val_loss: 3.6200 - val_acc: 0.5237\n",
      "Epoch 59/100\n",
      "50000/50000 [==============================] - 4s 86us/step - loss: 0.0988 - acc: 0.9679 - val_loss: 3.6561 - val_acc: 0.5296\n",
      "Epoch 60/100\n",
      "50000/50000 [==============================] - 4s 84us/step - loss: 0.1030 - acc: 0.9668 - val_loss: 3.5776 - val_acc: 0.5313\n",
      "Epoch 61/100\n",
      "50000/50000 [==============================] - 4s 84us/step - loss: 0.1137 - acc: 0.9620 - val_loss: 3.6418 - val_acc: 0.5167\n",
      "Epoch 62/100\n",
      "50000/50000 [==============================] - 4s 85us/step - loss: 0.1176 - acc: 0.9610 - val_loss: 3.5597 - val_acc: 0.5353\n",
      "Epoch 63/100\n",
      "50000/50000 [==============================] - 4s 84us/step - loss: 0.1020 - acc: 0.9661 - val_loss: 3.5480 - val_acc: 0.5342\n",
      "Epoch 64/100\n",
      "50000/50000 [==============================] - 4s 84us/step - loss: 0.0876 - acc: 0.9719 - val_loss: 3.7129 - val_acc: 0.5214\n",
      "Epoch 65/100\n",
      "50000/50000 [==============================] - 4s 87us/step - loss: 0.0970 - acc: 0.9686 - val_loss: 3.5352 - val_acc: 0.5273\n",
      "Epoch 66/100\n",
      "50000/50000 [==============================] - 4s 86us/step - loss: 0.0952 - acc: 0.9690 - val_loss: 3.7076 - val_acc: 0.5255\n",
      "Epoch 67/100\n",
      "50000/50000 [==============================] - 4s 85us/step - loss: 0.0971 - acc: 0.9682 - val_loss: 3.5735 - val_acc: 0.5301\n",
      "Epoch 68/100\n",
      "50000/50000 [==============================] - 4s 84us/step - loss: 0.0948 - acc: 0.9691 - val_loss: 3.4925 - val_acc: 0.5226\n",
      "Epoch 69/100\n",
      "50000/50000 [==============================] - 4s 88us/step - loss: 0.0767 - acc: 0.9746 - val_loss: 3.8217 - val_acc: 0.5295\n",
      "Epoch 70/100\n",
      "50000/50000 [==============================] - 4s 89us/step - loss: 0.0980 - acc: 0.9681 - val_loss: 3.7620 - val_acc: 0.5243\n",
      "Epoch 71/100\n",
      "50000/50000 [==============================] - 4s 88us/step - loss: 0.0803 - acc: 0.9731 - val_loss: 3.7036 - val_acc: 0.5321\n",
      "Epoch 72/100\n",
      "50000/50000 [==============================] - 4s 89us/step - loss: 0.0984 - acc: 0.9685 - val_loss: 3.6949 - val_acc: 0.5247\n",
      "Epoch 73/100\n",
      "50000/50000 [==============================] - 4s 87us/step - loss: 0.1000 - acc: 0.9682 - val_loss: 3.6349 - val_acc: 0.5294\n",
      "Epoch 74/100\n",
      "50000/50000 [==============================] - 4s 83us/step - loss: 0.0796 - acc: 0.9728 - val_loss: 3.6948 - val_acc: 0.5281\n",
      "Epoch 75/100\n",
      "50000/50000 [==============================] - 4s 84us/step - loss: 0.0879 - acc: 0.9706 - val_loss: 3.6608 - val_acc: 0.5256\n",
      "Epoch 76/100\n",
      "50000/50000 [==============================] - 4s 84us/step - loss: 0.0877 - acc: 0.9717 - val_loss: 3.7954 - val_acc: 0.5273\n",
      "Epoch 77/100\n",
      "50000/50000 [==============================] - 4s 85us/step - loss: 0.0842 - acc: 0.9733 - val_loss: 3.6843 - val_acc: 0.5265\n",
      "Epoch 78/100\n",
      "50000/50000 [==============================] - 4s 83us/step - loss: 0.0835 - acc: 0.9726 - val_loss: 3.7717 - val_acc: 0.5285\n",
      "Epoch 79/100\n",
      "50000/50000 [==============================] - 4s 83us/step - loss: 0.0852 - acc: 0.9725 - val_loss: 3.7255 - val_acc: 0.5242\n",
      "Epoch 80/100\n",
      "50000/50000 [==============================] - 4s 85us/step - loss: 0.0799 - acc: 0.9741 - val_loss: 3.8366 - val_acc: 0.5269\n",
      "Epoch 81/100\n",
      "50000/50000 [==============================] - 4s 84us/step - loss: 0.0848 - acc: 0.9727 - val_loss: 3.7260 - val_acc: 0.5280\n",
      "Epoch 82/100\n",
      "50000/50000 [==============================] - 4s 85us/step - loss: 0.0814 - acc: 0.9733 - val_loss: 3.7391 - val_acc: 0.5230\n",
      "Epoch 83/100\n",
      "50000/50000 [==============================] - 4s 86us/step - loss: 0.0806 - acc: 0.9736 - val_loss: 3.6955 - val_acc: 0.5246\n",
      "Epoch 84/100\n",
      "50000/50000 [==============================] - 4s 85us/step - loss: 0.0747 - acc: 0.9761 - val_loss: 3.8099 - val_acc: 0.5236\n",
      "Epoch 85/100\n",
      "50000/50000 [==============================] - 4s 84us/step - loss: 0.0810 - acc: 0.9733 - val_loss: 3.7390 - val_acc: 0.5256\n",
      "Epoch 86/100\n",
      "50000/50000 [==============================] - 4s 83us/step - loss: 0.0814 - acc: 0.9734 - val_loss: 3.8148 - val_acc: 0.5239\n",
      "Epoch 87/100\n",
      "50000/50000 [==============================] - 4s 87us/step - loss: 0.0772 - acc: 0.9755 - val_loss: 3.7898 - val_acc: 0.5248\n",
      "Epoch 88/100\n",
      "50000/50000 [==============================] - 4s 83us/step - loss: 0.0593 - acc: 0.9814 - val_loss: 3.9235 - val_acc: 0.5273\n",
      "Epoch 89/100\n",
      "50000/50000 [==============================] - 4s 83us/step - loss: 0.0869 - acc: 0.9722 - val_loss: 3.7139 - val_acc: 0.5312\n",
      "Epoch 90/100\n",
      "50000/50000 [==============================] - 4s 83us/step - loss: 0.0787 - acc: 0.9743 - val_loss: 3.6792 - val_acc: 0.5295\n",
      "Epoch 91/100\n",
      "50000/50000 [==============================] - 4s 84us/step - loss: 0.0782 - acc: 0.9750 - val_loss: 3.8153 - val_acc: 0.5259\n",
      "Epoch 92/100\n",
      "50000/50000 [==============================] - 4s 85us/step - loss: 0.0886 - acc: 0.9716 - val_loss: 3.7659 - val_acc: 0.5306\n",
      "Epoch 93/100\n",
      "50000/50000 [==============================] - 4s 84us/step - loss: 0.0567 - acc: 0.9807 - val_loss: 3.8619 - val_acc: 0.5307\n",
      "Epoch 94/100\n",
      "50000/50000 [==============================] - 4s 83us/step - loss: 0.0660 - acc: 0.9792 - val_loss: 3.8841 - val_acc: 0.5258\n",
      "Epoch 95/100\n",
      "50000/50000 [==============================] - 4s 83us/step - loss: 0.0708 - acc: 0.9771 - val_loss: 3.8346 - val_acc: 0.5293\n",
      "Epoch 96/100\n",
      "50000/50000 [==============================] - 4s 86us/step - loss: 0.0788 - acc: 0.9752 - val_loss: 3.7902 - val_acc: 0.5303\n",
      "Epoch 97/100\n",
      "50000/50000 [==============================] - 4s 84us/step - loss: 0.0778 - acc: 0.9760 - val_loss: 3.7549 - val_acc: 0.5264\n",
      "Epoch 98/100\n",
      "50000/50000 [==============================] - 4s 84us/step - loss: 0.0605 - acc: 0.9805 - val_loss: 3.9237 - val_acc: 0.5236\n",
      "Epoch 99/100\n",
      "50000/50000 [==============================] - 4s 88us/step - loss: 0.0723 - acc: 0.9779 - val_loss: 3.8913 - val_acc: 0.5305\n",
      "Epoch 100/100\n",
      "50000/50000 [==============================] - 4s 81us/step - loss: 0.0751 - acc: 0.9765 - val_loss: 3.8695 - val_acc: 0.5293\n"
     ]
    },
    {
     "data": {
      "text/plain": [
       "<keras.callbacks.History at 0x2747030f668>"
      ]
     },
     "execution_count": 9,
     "metadata": {},
     "output_type": "execute_result"
    }
   ],
   "source": [
    "model.fit(x_train, y_train, \n",
    "          epochs=EPOCHS, \n",
    "          batch_size=BATCH_SIZE, \n",
    "          validation_data=(x_test, y_test), \n",
    "          shuffle=True)"
   ]
  },
  {
   "cell_type": "code",
   "execution_count": 10,
   "metadata": {},
   "outputs": [
    {
     "data": {
      "image/png": "[encoded data removed]",
      "text/plain": [
       "<Figure size 432x288 with 1 Axes>"
      ]
     },
     "metadata": {
      "needs_background": "light"
     },
     "output_type": "display_data"
    },
    {
     "data": {
      "image/png": "[encoded data removed]",
      "text/plain": [
       "<Figure size 432x288 with 1 Axes>"
      ]
     },
     "metadata": {
      "needs_background": "light"
     },
     "output_type": "display_data"
    }
   ],
   "source": [
    "import matplotlib.pyplot as plt\n",
    "%matplotlib inline\n",
    "\n",
    "train_loss = model.history.history[\"loss\"]\n",
    "valid_loss = model.history.history[\"val_loss\"]\n",
    "\n",
    "train_acc = model.history.history[\"acc\"]\n",
    "valid_acc = model.history.history[\"val_acc\"]\n",
    "\n",
    "plt.plot(range(len(train_loss)), train_loss, label=\"train loss\")\n",
    "plt.plot(range(len(valid_loss)), valid_loss, label=\"valid loss\")\n",
    "plt.legend()\n",
    "plt.title(\"Loss\")\n",
    "plt.show()\n",
    "\n",
    "plt.plot(range(len(train_acc)), train_acc, label=\"train accuracy\")\n",
    "plt.plot(range(len(valid_acc)), valid_acc, label=\"valid accuracy\")\n",
    "plt.legend()\n",
    "plt.title(\"Accuracy\")\n",
    "plt.show()"
   ]
  }
 ],
 "metadata": {
  "kernelspec": {
   "display_name": "Python 3",
   "language": "python",
   "name": "python3"
  },
  "language_info": {
   "codemirror_mode": {
    "name": "ipython",
    "version": 3
   },
   "file_extension": ".py",
   "mimetype": "text/x-python",
   "name": "python",
   "nbconvert_exporter": "python",
   "pygments_lexer": "ipython3",
   "version": "3.6.9"
  }
 },
 "nbformat": 4,
 "nbformat_minor": 2
}
